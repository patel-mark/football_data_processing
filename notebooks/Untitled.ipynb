{
 "cells": [
  {
   "cell_type": "code",
   "execution_count": null,
   "id": "c457281a-95ed-44f8-8a96-2dc86c92c82e",
   "metadata": {},
   "outputs": [],
   "source": [
    "import pandas as pd\n",
    "import numpy as np"
   ]
  },
  {
   "cell_type": "code",
   "execution_count": null,
   "id": "1cd74ee1-0197-4668-9d52-253119ca4199",
   "metadata": {},
   "outputs": [],
   "source": [
    "PL_1 = pd.read_csv(\"../data/Premier_League_data/Squad_Standard_Stats.csv\", skiprows=1)\n",
    "PL_2 = pd.read_csv(\"../data/Premier_League_data/Squad_Standard_Stats(opponent stats).csv\", skiprows=1)\n",
    "PL_3 = pd.read_csv(\"../data/Premier_League_data/Squad_Goalkeeping_Stats.csv\", skiprows=1)\n",
    "PL_4 = pd.read_csv(\"../data/Premier_League_data/Squad_Goalkeeping_Stats(opponent stats).csv\", skiprows=1)\n",
    "PL_5 = pd.read_csv(\"../data/Premier_League_data/Squad_Advanced_Goalkeeping_Stats.csv\", skiprows=1)\n",
    "PL_6 = pd.read_csv(\"../data/Premier_League_data/Squad_Advanced_Goalkeeping_Stats(opponent stats).csv\", skiprows=1)\n",
    "PL_7 = pd.read_csv(\"../data/Premier_League_data/Squad_Shooting_Stats.csv\", skiprows=1)\n",
    "PL_8 = pd.read_csv(\"../data/Premier_League_data/Squad_Shooting_Stats(opponent stats).csv\", skiprows=1)\n",
    "PL_9 = pd.read_csv(\"../data/Premier_League_data/Squad_Passing_Stats.csv\", skiprows=1)\n",
    "PL_10 = pd.read_csv(\"../data/Premier_League_data/Squad_Passing_Stats(opponent stats).csv\", skiprows=1)\n",
    "PL_11 = pd.read_csv(\"../data/Premier_League_data/Squad_Pass_Types_Stats.csv\", skiprows=1)\n",
    "PL_12 = pd.read_csv(\"../data/Premier_League_data/Squad_Pass_Types_Stats(opponent stats).csv\", skiprows=1)\n",
    "PL_13 = pd.read_csv(\"../data/Premier_League_data/Squad_Goal_Shot_Creation_Stats.csv\", skiprows=1)\n",
    "PL_14 = pd.read_csv(\"../data/Premier_League_data/Squad_Goal_Shot_Creation_Stats(opponent stats).csv\", skiprows=1)\n",
    "PL_15 = pd.read_csv(\"../data/Premier_League_data/Squad_Defensive_Actions_Stats.csv\", skiprows=1)\n",
    "PL_16 = pd.read_csv(\"../data/Premier_League_data/Squad_Defensive_Actions_Stats(opponent stats).csv\", skiprows=1)\n",
    "PL_17 = pd.read_csv(\"../data/Premier_League_data/Squad_Possession_Stats.csv\", skiprows=1)\n",
    "PL_18 = pd.read_csv(\"../data/Premier_League_data/Squad_Possession_Stats(opponent stats).csv\", skiprows=1)\n",
    "PL_19 = pd.read_csv(\"../data/Premier_League_data/Squad_Playing_Time_Stats.csv\", skiprows=1)\n",
    "PL_20 = pd.read_csv(\"../data/Premier_League_data/Squad_Playing_Time_Stats(opponent stats).csv\", skiprows=1)\n",
    "PL_21 = pd.read_csv(\"../data/Premier_League_data/Squad_Miscellaneous_Stats.csv\", skiprows=1)\n",
    "PL_22 = pd.read_csv(\"../data/Premier_League_data/Squad_Miscellaneous_Stats(opponent stats).csv\", skiprows=1)"
   ]
  },
  {
   "cell_type": "code",
   "execution_count": null,
   "id": "91a1002e-1484-4c3c-a2ec-39057ba9c962",
   "metadata": {},
   "outputs": [],
   "source": [
    "PL_1.columns"
   ]
  },
  {
   "cell_type": "code",
   "execution_count": null,
   "id": "17dd67d9-b36f-4123-a0e4-fc3e7442ef2b",
   "metadata": {},
   "outputs": [],
   "source": [
    "# Define columns to drop entirely\n",
    "drop_cols = ['# Pl', 'Age', 'Starts', 'Min', '90s', 'Gls', 'Ast', 'G+A', 'G-PK']\n",
    "\n",
    "# Define columns to divide by 'MP' (and later drop)\n",
    "divide_cols = ['PK', 'PKatt', 'CrdY', 'CrdR', 'PrgC', 'PrgP']\n",
    "\n",
    "# Create new calculated columns (original_value / MP)\n",
    "for col in divide_cols:\n",
    "    new_col_name = f'{col}_per_90'  # Name for the new column\n",
    "    PL_1[new_col_name] = PL_1[col] / PL_1['MP']  # Perform division\n",
    "    \n",
    "    # Handle division by zero (if MP=0, set result to 0)\n",
    "    PL_1.loc[PL_1['MP'] == 0, new_col_name] = 0\n",
    "\n",
    "# Drop both the initial drop_cols and the original divide_cols\n",
    "PL_1.drop(columns=drop_cols + divide_cols, inplace=True)"
   ]
  },
  {
   "cell_type": "code",
   "execution_count": null,
   "id": "5f5fc3ff-ecf6-4311-b7a5-113d8d13ea5b",
   "metadata": {},
   "outputs": [],
   "source": [
    "PL_1.head()"
   ]
  },
  {
   "cell_type": "code",
   "execution_count": null,
   "id": "26f29988-76a6-466e-aeb0-4bc75cb05886",
   "metadata": {},
   "outputs": [],
   "source": [
    "PL_2.columns"
   ]
  },
  {
   "cell_type": "code",
   "execution_count": null,
   "id": "4c9da81e-5845-43de-a223-2bfb8717c061",
   "metadata": {},
   "outputs": [],
   "source": [
    "# Define columns to drop entirely\n",
    "drop_cols = ['# Pl', 'Age', 'Starts', 'Min', '90s', 'Gls', 'Ast', 'G+A', 'G-PK']\n",
    "\n",
    "# Define columns to divide by 'MP' (and later drop)\n",
    "divide_cols = ['PK', 'PKatt', 'CrdY', 'CrdR', 'PrgC', 'PrgP']\n",
    "\n",
    "# Create new calculated columns (original_value / MP)\n",
    "for col in divide_cols:\n",
    "    new_col_name = f'{col}_per_90'  # Name for the new column\n",
    "    PL_2[new_col_name] = PL_2[col] / PL_2['MP']  # Perform division\n",
    "    \n",
    "    # Handle division by zero (if MP=0, set result to 0)\n",
    "    PL_2.loc[PL_2['MP'] == 0, new_col_name] = 0\n",
    "\n",
    "# Drop both the initial drop_cols and the original divide_cols\n",
    "PL_2.drop(columns=drop_cols + divide_cols, inplace=True)\n",
    "\n",
    "# Remove \"vs \" prefix from 'Squad' column\n",
    "PL_2['Squad'] = PL_2['Squad'].str.replace('^vs ', '', regex=True)\n",
    "\n",
    "# Rename columns (except 'Squad') by appending \"_against\"\n",
    "new_columns = {\n",
    "    col: f\"{col}_against\" \n",
    "    for col in PL_2.columns \n",
    "    if col != 'Squad'\n",
    "}\n",
    "PL_2.rename(columns=new_columns, inplace=True)"
   ]
  },
  {
   "cell_type": "code",
   "execution_count": null,
   "id": "2ff91162-578f-4743-93f9-20374e744399",
   "metadata": {},
   "outputs": [],
   "source": [
    "PL_2.head()"
   ]
  },
  {
   "cell_type": "code",
   "execution_count": null,
   "id": "23a02e82-45fc-445d-b712-db11b806a3b1",
   "metadata": {},
   "outputs": [],
   "source": [
    "# Merge PL_1 and PL_2 on 'Squad'\n",
    "PL_Squad_Standard_Stats_df = pd.merge(\n",
    "    PL_1,          # Left DataFrame\n",
    "    PL_2,          # Right DataFrame\n",
    "    on='Squad',    # Merge key\n",
    "    how='inner'    # Use 'inner' to keep only matching squads (change to 'left'/'right'/'outer' if needed)\n",
    ")"
   ]
  },
  {
   "cell_type": "code",
   "execution_count": null,
   "id": "36719973-6d72-49e6-8102-b74b3b7ddb7a",
   "metadata": {},
   "outputs": [],
   "source": [
    "PL_Squad_Standard_Stats_df.head()"
   ]
  },
  {
   "cell_type": "code",
   "execution_count": null,
   "id": "3d6e79d7-4bdb-4a1e-a0b0-fd6b863b4201",
   "metadata": {},
   "outputs": [],
   "source": [
    "PL_3.columns"
   ]
  },
  {
   "cell_type": "code",
   "execution_count": null,
   "id": "1380f4fb-7c7f-486d-9e02-14f7b48af4b0",
   "metadata": {},
   "outputs": [],
   "source": [
    "PL_3.head()"
   ]
  },
  {
   "cell_type": "code",
   "execution_count": null,
   "id": "d4602f09-13a0-486a-ba5b-f9a00534c8c4",
   "metadata": {},
   "outputs": [],
   "source": [
    "# Define columns to drop entirely\n",
    "drop_cols = ['# Pl', 'Starts', 'Min', '90s', 'GA', 'CS']\n",
    "\n",
    "# Define columns to divide by 'MP' (and later drop)\n",
    "divide_cols = ['SoTA','Saves', 'W', 'D', 'L', 'PKatt', 'PKA', 'PKsv','PKm']\n",
    "\n",
    "# Create new calculated columns (original_value / MP)\n",
    "for col in divide_cols:\n",
    "    new_col_name = f'{col}_per_90'  # Name for the new column\n",
    "    PL_3[new_col_name] = PL_3[col] / PL_3['MP']  # Perform division\n",
    "    \n",
    "    # Handle division by zero (if MP=0, set result to 0)\n",
    "    PL_3.loc[PL_3['MP'] == 0, new_col_name] = 0\n",
    "\n",
    "# Drop both the initial drop_cols and the original divide_cols\n",
    "PL_3.drop(columns=drop_cols + divide_cols, inplace=True)"
   ]
  },
  {
   "cell_type": "code",
   "execution_count": null,
   "id": "e0c559e2-fd4e-4092-b265-41f5f3bfd3e7",
   "metadata": {},
   "outputs": [],
   "source": [
    "PL_3.head()"
   ]
  },
  {
   "cell_type": "code",
   "execution_count": null,
   "id": "591e1b8c-87c2-4275-b2cb-8548597a45ba",
   "metadata": {},
   "outputs": [],
   "source": [
    "PL_4.columns"
   ]
  },
  {
   "cell_type": "code",
   "execution_count": null,
   "id": "5ceee863-0cae-49b6-89f7-6c0d1a2f26c9",
   "metadata": {},
   "outputs": [],
   "source": [
    "# Define columns to drop entirely\n",
    "drop_cols = ['# Pl', 'Starts', 'Min', '90s', 'GA', 'CS']\n",
    "\n",
    "# Define columns to divide by 'MP' (and later drop)\n",
    "divide_cols = ['SoTA','Saves', 'W', 'D', 'L', 'PKatt', 'PKA', 'PKsv','PKm']\n",
    "\n",
    "# Create new calculated columns (original_value / MP)\n",
    "for col in divide_cols:\n",
    "    new_col_name = f'{col}_per_90'  # Name for the new column\n",
    "    PL_4[new_col_name] = PL_4[col] / PL_4['MP']  # Perform division\n",
    "    \n",
    "    # Handle division by zero (if MP=0, set result to 0)\n",
    "    PL_4.loc[PL_4['MP'] == 0, new_col_name] = 0\n",
    "\n",
    "# Drop both the initial drop_cols and the original divide_cols\n",
    "PL_4.drop(columns=drop_cols + divide_cols, inplace=True)\n",
    "\n",
    "# Remove \"vs \" prefix from 'Squad' column\n",
    "PL_4['Squad'] = PL_4['Squad'].str.replace('^vs ', '', regex=True)\n",
    "\n",
    "# Rename columns (except 'Squad') by appending \"_against\"\n",
    "new_columns = {\n",
    "    col: f\"{col}_against\" \n",
    "    for col in PL_4.columns \n",
    "    if col != 'Squad'\n",
    "}\n",
    "PL_4.rename(columns=new_columns, inplace=True)"
   ]
  },
  {
   "cell_type": "code",
   "execution_count": null,
   "id": "9557c68c-17ee-412d-afc1-b2698f65df19",
   "metadata": {},
   "outputs": [],
   "source": [
    "PL_Squad_Goalkeeping_Stats_df = pd.merge(\n",
    "    PL_3,          # Left DataFrame\n",
    "    PL_4,          # Right DataFrame\n",
    "    on='Squad',    # Merge key\n",
    "    how='inner'    # Use 'inner' to keep only matching squads (change to 'left'/'right'/'outer' if needed)\n",
    ")"
   ]
  },
  {
   "cell_type": "code",
   "execution_count": null,
   "id": "49c76716-d9ea-4617-b590-9251cb852754",
   "metadata": {},
   "outputs": [],
   "source": [
    "PL_Squad_Goalkeeping_Stats_df.head()"
   ]
  },
  {
   "cell_type": "code",
   "execution_count": null,
   "id": "baecf2fe-2618-4c56-91f1-a3399bb27c82",
   "metadata": {},
   "outputs": [],
   "source": [
    "PL_5.columns"
   ]
  },
  {
   "cell_type": "code",
   "execution_count": null,
   "id": "ea6f76cf-0d80-4eac-a51b-afcb26419c79",
   "metadata": {},
   "outputs": [],
   "source": [
    "# Define columns to drop entirely\n",
    "drop_cols = ['# Pl', 'GA', 'PKA', '#OPA']\n",
    "\n",
    "# Define columns to divide by 'MP' (and later drop)\n",
    "divide_cols = ['FK', 'CK', 'OG', 'Cmp', 'Att', 'Cmp%', 'Att (GK)', 'Thr', 'Att.1', 'Opp', 'Stp',]\n",
    "\n",
    "# Create new calculated columns (original_value / MP)\n",
    "for col in divide_cols:\n",
    "    new_col_name = f'{col}_per_90'  # Name for the new column\n",
    "    PL_5[new_col_name] = PL_5[col] / PL_5['90s']  # Perform division\n",
    "    \n",
    "    # Handle division by zero (if MP=0, set result to 0)\n",
    "    PL_5.loc[PL_5['90s'] == 0, new_col_name] = 0\n",
    "\n",
    "# Drop both the initial drop_cols and the original divide_cols\n",
    "PL_5.drop(columns=drop_cols + divide_cols, inplace=True)"
   ]
  },
  {
   "cell_type": "code",
   "execution_count": null,
   "id": "d135d8e4-37e1-498f-920e-3f419d83fd5a",
   "metadata": {},
   "outputs": [],
   "source": [
    "PL_5.head()"
   ]
  },
  {
   "cell_type": "code",
   "execution_count": null,
   "id": "a8b5164c-52c2-40d0-94bb-b56f51a3fd52",
   "metadata": {},
   "outputs": [],
   "source": [
    "# Define columns to drop entirely\n",
    "drop_cols = ['# Pl', 'GA', 'PKA', '#OPA']\n",
    "\n",
    "# Define columns to divide by 'MP' (and later drop)\n",
    "divide_cols = ['FK', 'CK', 'OG', 'Cmp', 'Att', 'Cmp%', 'Att (GK)', 'Thr', 'Att.1', 'Opp', 'Stp',]\n",
    "\n",
    "# Create new calculated columns (original_value / MP)\n",
    "for col in divide_cols:\n",
    "    new_col_name = f'{col}_per_90'  # Name for the new column\n",
    "    PL_6[new_col_name] = PL_6[col] / PL_6['90s']  # Perform division\n",
    "    \n",
    "    # Handle division by zero (if MP=0, set result to 0)\n",
    "    PL_6.loc[PL_6['90s'] == 0, new_col_name] = 0\n",
    "\n",
    "# Drop both the initial drop_cols and the original divide_cols\n",
    "PL_6.drop(columns=drop_cols + divide_cols, inplace=True)\n",
    "\n",
    "# Remove \"vs \" prefix from 'Squad' column\n",
    "PL_6['Squad'] = PL_6['Squad'].str.replace('^vs ', '', regex=True)\n",
    "\n",
    "# Rename columns (except 'Squad') by appending \"_against\"\n",
    "new_columns = {\n",
    "    col: f\"{col}_against\" \n",
    "    for col in PL_6.columns \n",
    "    if col != 'Squad'\n",
    "}\n",
    "PL_6.rename(columns=new_columns, inplace=True)"
   ]
  },
  {
   "cell_type": "code",
   "execution_count": null,
   "id": "1778f66f-622d-450b-9f72-7824d94df4c9",
   "metadata": {},
   "outputs": [],
   "source": [
    "PL_Squad_Advanced_Goalkeeping_Stats_df = pd.merge(\n",
    "    PL_5,          # Left DataFrame\n",
    "    PL_6,          # Right DataFrame\n",
    "    on='Squad',    # Merge key\n",
    "    how='inner'    # Use 'inner' to keep only matching squads (change to 'left'/'right'/'outer' if needed)\n",
    ")"
   ]
  },
  {
   "cell_type": "code",
   "execution_count": null,
   "id": "e05ad44b-3eaa-4479-8fb5-a8f3a46ad003",
   "metadata": {},
   "outputs": [],
   "source": [
    "PL_Squad_Advanced_Goalkeeping_Stats_df.head()"
   ]
  },
  {
   "cell_type": "code",
   "execution_count": null,
   "id": "bb0e1a6b-dbb6-47f5-afe7-14a36c64e5e7",
   "metadata": {},
   "outputs": [],
   "source": [
    "PL_7.columns"
   ]
  },
  {
   "cell_type": "code",
   "execution_count": null,
   "id": "923cb6f0-b190-4219-9e86-21ef77bd52cb",
   "metadata": {},
   "outputs": [],
   "source": [
    "# Define columns to drop entirely\n",
    "drop_cols = ['# Pl', 'Sh', 'SoT', 'FK', 'PK', 'PKatt', 'xG', 'npxG']\n",
    "\n",
    "# Define columns to divide by 'MP' (and later drop)\n",
    "divide_cols = ['Gls']\n",
    "\n",
    "# Create new calculated columns (original_value / MP)\n",
    "for col in divide_cols:\n",
    "    new_col_name = f'{col}_per_90'  # Name for the new column\n",
    "    PL_7[new_col_name] = PL_7[col] / PL_7['90s']  # Perform division\n",
    "    \n",
    "    # Handle division by zero (if MP=0, set result to 0)\n",
    "    PL_7.loc[PL_7['90s'] == 0, new_col_name] = 0\n",
    "\n",
    "# Drop both the initial drop_cols and the original divide_cols\n",
    "PL_7.drop(columns=drop_cols + divide_cols, inplace=True)"
   ]
  },
  {
   "cell_type": "code",
   "execution_count": null,
   "id": "6cc4aecb-4f48-455a-8247-2e3b3354b091",
   "metadata": {},
   "outputs": [],
   "source": [
    "# Define columns to drop entirely\n",
    "drop_cols = ['# Pl', 'Sh', 'SoT', 'FK', 'PK', 'PKatt', 'xG', 'npxG']\n",
    "\n",
    "# Define columns to divide by 'MP' (and later drop)\n",
    "divide_cols = ['Gls']\n",
    "\n",
    "# Create new calculated columns (original_value / MP)\n",
    "for col in divide_cols:\n",
    "    new_col_name = f'{col}_per_90'  # Name for the new column\n",
    "    PL_8[new_col_name] = PL_8[col] / PL_8['90s']  # Perform division\n",
    "    \n",
    "    # Handle division by zero (if MP=0, set result to 0)\n",
    "    PL_8.loc[PL_8['90s'] == 0, new_col_name] = 0\n",
    "\n",
    "# Drop both the initial drop_cols and the original divide_cols\n",
    "PL_8.drop(columns=drop_cols + divide_cols, inplace=True)\n",
    "# Remove \"vs \" prefix from 'Squad' column\n",
    "PL_8['Squad'] = PL_8['Squad'].str.replace('^vs ', '', regex=True)\n",
    "\n",
    "# Rename columns (except 'Squad') by appending \"_against\"\n",
    "new_columns = {\n",
    "    col: f\"{col}_against\" \n",
    "    for col in PL_8.columns \n",
    "    if col != 'Squad'\n",
    "}\n",
    "PL_8.rename(columns=new_columns, inplace=True)"
   ]
  },
  {
   "cell_type": "code",
   "execution_count": null,
   "id": "adf985c4-3164-4469-9449-3553d602c54c",
   "metadata": {},
   "outputs": [],
   "source": [
    "PL_Squad_Shooting_Stats_df = pd.merge(\n",
    "    PL_7,          # Left DataFrame\n",
    "    PL_8,          # Right DataFrame\n",
    "    on='Squad',    # Merge key\n",
    "    how='inner'    # Use 'inner' to keep only matching squads (change to 'left'/'right'/'outer' if needed)\n",
    ")"
   ]
  },
  {
   "cell_type": "code",
   "execution_count": null,
   "id": "bb09683d-7db0-49be-9aa5-015f02407081",
   "metadata": {},
   "outputs": [],
   "source": [
    "PL_Squad_Shooting_Stats_df.head()"
   ]
  },
  {
   "cell_type": "code",
   "execution_count": null,
   "id": "17318f00-1b07-4cac-bf7d-d8288fc6304d",
   "metadata": {},
   "outputs": [],
   "source": [
    "PL_9.columns"
   ]
  },
  {
   "cell_type": "code",
   "execution_count": null,
   "id": "a3234b32-48ed-4192-8a55-33b9be07df14",
   "metadata": {},
   "outputs": [],
   "source": [
    "# Define columns to drop entirely\n",
    "drop_cols = ['# Pl', 'Cmp', 'Att', 'Cmp%',\n",
    "       'Cmp.1', 'Att.1', 'Cmp%.1', 'Cmp.2', 'Att.2', 'Cmp%.2', 'Cmp.3',\n",
    "       'Att.3', 'Cmp%.3', 'Ast', 'xAG', 'xA', 'A-xAG', 'PrgP']\n",
    "\n",
    "# Define columns to divide by 'MP' (and later drop)\n",
    "divide_cols = ['TotDist', 'PrgDist', 'KP', '1/3', 'PPA', 'CrsPA']\n",
    "\n",
    "# Create new calculated columns (original_value / MP)\n",
    "for col in divide_cols:\n",
    "    new_col_name = f'{col}_per_90'  # Name for the new column\n",
    "    PL_9[new_col_name] = PL_9[col] / PL_9['90s']  # Perform division\n",
    "    \n",
    "    # Handle division by zero (if MP=0, set result to 0)\n",
    "    PL_9.loc[PL_9['90s'] == 0, new_col_name] = 0\n",
    "\n",
    "# Drop both the initial drop_cols and the original divide_cols\n",
    "PL_9.drop(columns=drop_cols + divide_cols, inplace=True)"
   ]
  },
  {
   "cell_type": "code",
   "execution_count": null,
   "id": "fee76805-d5f5-4fe2-8f71-eba75d2f61d4",
   "metadata": {},
   "outputs": [],
   "source": [
    "# Define columns to drop entirely\n",
    "drop_cols = ['# Pl', 'Cmp', 'Att', 'Cmp%',\n",
    "       'Cmp.1', 'Att.1', 'Cmp%.1', 'Cmp.2', 'Att.2', 'Cmp%.2', 'Cmp.3',\n",
    "       'Att.3', 'Cmp%.3', 'Ast', 'xAG', 'xA', 'A-xAG', 'PrgP']\n",
    "\n",
    "# Define columns to divide by 'MP' (and later drop)\n",
    "divide_cols = ['TotDist', 'PrgDist', 'KP', '1/3', 'PPA', 'CrsPA']\n",
    "\n",
    "# Create new calculated columns (original_value / MP)\n",
    "for col in divide_cols:\n",
    "    new_col_name = f'{col}_per_90'  # Name for the new column\n",
    "    PL_10[new_col_name] = PL_10[col] / PL_10['90s']  # Perform division\n",
    "    \n",
    "    # Handle division by zero (if MP=0, set result to 0)\n",
    "    PL_10.loc[PL_10['90s'] == 0, new_col_name] = 0\n",
    "\n",
    "# Drop both the initial drop_cols and the original divide_cols\n",
    "PL_10.drop(columns=drop_cols + divide_cols, inplace=True)\n",
    "\n",
    "# Remove \"vs \" prefix from 'Squad' column\n",
    "PL_10['Squad'] = PL_10['Squad'].str.replace('^vs ', '', regex=True)\n",
    "\n",
    "# Rename columns (except 'Squad') by appending \"_against\"\n",
    "new_columns = {\n",
    "    col: f\"{col}_against\" \n",
    "    for col in PL_10.columns \n",
    "    if col != 'Squad'\n",
    "}\n",
    "PL_10.rename(columns=new_columns, inplace=True)"
   ]
  },
  {
   "cell_type": "code",
   "execution_count": null,
   "id": "df092d0d-2788-448f-b3dd-53d9e4a2b958",
   "metadata": {},
   "outputs": [],
   "source": [
    "PL_Squad_Passing_Stats_df = pd.merge(\n",
    "    PL_9,          # Left DataFrame\n",
    "    PL_10,          # Right DataFrame\n",
    "    on='Squad',    # Merge key\n",
    "    how='inner'    # Use 'inner' to keep only matching squads (change to 'left'/'right'/'outer' if needed)\n",
    ")"
   ]
  },
  {
   "cell_type": "code",
   "execution_count": null,
   "id": "d7f48b04-d6ce-41ee-9117-6299265f504b",
   "metadata": {},
   "outputs": [],
   "source": [
    "PL_Squad_Passing_Stats_df.head()"
   ]
  },
  {
   "cell_type": "code",
   "execution_count": null,
   "id": "94f9bede-e832-4f6a-adb6-d46d7b9c5a48",
   "metadata": {},
   "outputs": [],
   "source": [
    "PL_11.columns"
   ]
  },
  {
   "cell_type": "code",
   "execution_count": null,
   "id": "a7ea73a1-5607-4da7-85c0-cdebf670903c",
   "metadata": {},
   "outputs": [],
   "source": [
    "# Define columns to drop entirely\n",
    "drop_cols = ['# Pl', 'Att']\n",
    "\n",
    "# Define columns to divide by 'MP' (and later drop)\n",
    "divide_cols = ['Live', 'Dead', 'FK', 'TB', 'Sw', 'Crs',\n",
    "       'TI', 'CK', 'In', 'Out', 'Str', 'Cmp', 'Off', 'Blocks']\n",
    "\n",
    "# Create new calculated columns (original_value / MP)\n",
    "for col in divide_cols:\n",
    "    new_col_name = f'{col}_per_90'  # Name for the new column\n",
    "    PL_11[new_col_name] = PL_11[col] / PL_11['90s']  # Perform division\n",
    "    \n",
    "    # Handle division by zero (if MP=0, set result to 0)\n",
    "    PL_11.loc[PL_11['90s'] == 0, new_col_name] = 0\n",
    "\n",
    "# Drop both the initial drop_cols and the original divide_cols\n",
    "PL_11.drop(columns=drop_cols + divide_cols, inplace=True)"
   ]
  },
  {
   "cell_type": "code",
   "execution_count": null,
   "id": "691b9203-40ed-4f9b-b31f-a4cd35f929aa",
   "metadata": {},
   "outputs": [],
   "source": [
    "# Define columns to drop entirely\n",
    "drop_cols = ['# Pl', 'Att']\n",
    "\n",
    "# Define columns to divide by 'MP' (and later drop)\n",
    "divide_cols = ['Live', 'Dead', 'FK', 'TB', 'Sw', 'Crs',\n",
    "       'TI', 'CK', 'In', 'Out', 'Str', 'Cmp', 'Off', 'Blocks']\n",
    "\n",
    "# Create new calculated columns (original_value / MP)\n",
    "for col in divide_cols:\n",
    "    new_col_name = f'{col}_per_90'  # Name for the new column\n",
    "    PL_12[new_col_name] = PL_12[col] / PL_12['90s']  # Perform division\n",
    "    \n",
    "    # Handle division by zero (if MP=0, set result to 0)\n",
    "    PL_12.loc[PL_12['90s'] == 0, new_col_name] = 0\n",
    "\n",
    "# Drop both the initial drop_cols and the original divide_cols\n",
    "PL_12.drop(columns=drop_cols + divide_cols, inplace=True)\n",
    "# Remove \"vs \" prefix from 'Squad' column\n",
    "PL_12['Squad'] = PL_12['Squad'].str.replace('^vs ', '', regex=True)\n",
    "\n",
    "# Rename columns (except 'Squad') by appending \"_against\"\n",
    "new_columns = {\n",
    "    col: f\"{col}_against\" \n",
    "    for col in PL_12.columns \n",
    "    if col != 'Squad'\n",
    "}\n",
    "PL_12.rename(columns=new_columns, inplace=True)"
   ]
  },
  {
   "cell_type": "code",
   "execution_count": null,
   "id": "83a6fb23-55ba-4b58-afa4-3c665d0a6a7e",
   "metadata": {},
   "outputs": [],
   "source": [
    "PL_Squad_Pass_Types_Stats_df = pd.merge(\n",
    "    PL_11,          # Left DataFrame\n",
    "    PL_12,          # Right DataFrame\n",
    "    on='Squad',    # Merge key\n",
    "    how='inner'    # Use 'inner' to keep only matching squads (change to 'left'/'right'/'outer' if needed)\n",
    ")"
   ]
  },
  {
   "cell_type": "code",
   "execution_count": null,
   "id": "e8a6f380-3e25-44b9-92f6-22d1fd3aa892",
   "metadata": {},
   "outputs": [],
   "source": [
    "PL_Squad_Pass_Types_Stats_df.head()"
   ]
  },
  {
   "cell_type": "code",
   "execution_count": null,
   "id": "e8022225-e5f8-42a0-b623-5d487b523312",
   "metadata": {},
   "outputs": [],
   "source": [
    "PL_13.columns"
   ]
  },
  {
   "cell_type": "code",
   "execution_count": null,
   "id": "7d32a50d-2879-49e4-8bd0-12a693b51141",
   "metadata": {},
   "outputs": [],
   "source": [
    "# Define columns to drop entirely\n",
    "drop_cols = ['# Pl', 'SCA', 'GCA']\n",
    "\n",
    "# Define columns to divide by 'MP' (and later drop)\n",
    "divide_cols = ['PassLive', 'PassDead', 'TO','Sh', 'Fld', 'Def', 'PassLive.1', 'PassDead.1', 'TO.1',\n",
    "       'Sh.1', 'Fld.1', 'Def.1']\n",
    "\n",
    "# Create new calculated columns (original_value / MP)\n",
    "for col in divide_cols:\n",
    "    new_col_name = f'{col}_per_90'  # Name for the new column\n",
    "    PL_13[new_col_name] = PL_13[col] / PL_13['90s']  # Perform division\n",
    "    \n",
    "    # Handle division by zero (if MP=0, set result to 0)\n",
    "    PL_13.loc[PL_13['90s'] == 0, new_col_name] = 0\n",
    "\n",
    "# Drop both the initial drop_cols and the original divide_cols\n",
    "PL_13.drop(columns=drop_cols + divide_cols, inplace=True)"
   ]
  },
  {
   "cell_type": "code",
   "execution_count": null,
   "id": "a5ae144f-5e2e-42b9-bbc9-b59b58604f92",
   "metadata": {},
   "outputs": [],
   "source": [
    "# Define columns to drop entirely\n",
    "drop_cols = ['# Pl', 'SCA', 'GCA']\n",
    "\n",
    "# Define columns to divide by 'MP' (and later drop)\n",
    "divide_cols = ['PassLive', 'PassDead', 'TO','Sh', 'Fld', 'Def', 'PassLive.1', 'PassDead.1', 'TO.1',\n",
    "       'Sh.1', 'Fld.1', 'Def.1']\n",
    "\n",
    "# Create new calculated columns (original_value / MP)\n",
    "for col in divide_cols:\n",
    "    new_col_name = f'{col}_per_90'  # Name for the new column\n",
    "    PL_14[new_col_name] = PL_14[col] / PL_14['90s']  # Perform division\n",
    "    \n",
    "    # Handle division by zero (if MP=0, set result to 0)\n",
    "    PL_14.loc[PL_14['90s'] == 0, new_col_name] = 0\n",
    "\n",
    "# Drop both the initial drop_cols and the original divide_cols\n",
    "PL_14.drop(columns=drop_cols + divide_cols, inplace=True)\n",
    "# Remove \"vs \" prefix from 'Squad' column\n",
    "PL_14['Squad'] = PL_14['Squad'].str.replace('^vs ', '', regex=True)\n",
    "\n",
    "# Rename columns (except 'Squad') by appending \"_against\"\n",
    "new_columns = {\n",
    "    col: f\"{col}_against\" \n",
    "    for col in PL_14.columns \n",
    "    if col != 'Squad'\n",
    "}\n",
    "PL_14.rename(columns=new_columns, inplace=True)"
   ]
  },
  {
   "cell_type": "code",
   "execution_count": null,
   "id": "cc7272c1-ae8d-4f99-9610-4819ee85f912",
   "metadata": {},
   "outputs": [],
   "source": [
    "PL_Squad_Goal_Shot_Creation_Stats_df = pd.merge(\n",
    "    PL_13,          # Left DataFrame\n",
    "    PL_14,          # Right DataFrame\n",
    "    on='Squad',    # Merge key\n",
    "    how='inner'    # Use 'inner' to keep only matching squads (change to 'left'/'right'/'outer' if needed)\n",
    ")"
   ]
  },
  {
   "cell_type": "code",
   "execution_count": null,
   "id": "936fa69a-190b-4bd4-8a1b-434290e141a8",
   "metadata": {},
   "outputs": [],
   "source": [
    "PL_Squad_Goal_Shot_Creation_Stats_df.head()"
   ]
  },
  {
   "cell_type": "code",
   "execution_count": null,
   "id": "1bccbe01-2413-483f-8782-c460b3de8074",
   "metadata": {},
   "outputs": [],
   "source": [
    "PL_15.columns"
   ]
  },
  {
   "cell_type": "code",
   "execution_count": null,
   "id": "e3918746-a938-4625-8ef1-0667ebd6911f",
   "metadata": {},
   "outputs": [],
   "source": [
    "# Define columns to drop entirely\n",
    "drop_cols = ['# Pl']\n",
    "\n",
    "# Define columns to divide by 'MP' (and later drop)\n",
    "divide_cols = ['Tkl', 'TklW', 'Def 3rd', 'Mid 3rd', 'Att 3rd',\n",
    "       'Tkl.1', 'Att', 'Tkl%', 'Lost', 'Blocks', 'Sh', 'Pass', 'Int',\n",
    "       'Tkl+Int', 'Clr', 'Err']\n",
    "\n",
    "# Create new calculated columns (original_value / MP)\n",
    "for col in divide_cols:\n",
    "    new_col_name = f'{col}_per_90'  # Name for the new column\n",
    "    PL_15[new_col_name] = PL_15[col] / PL_15['90s']  # Perform division\n",
    "    \n",
    "    # Handle division by zero (if MP=0, set result to 0)\n",
    "    PL_15.loc[PL_15['90s'] == 0, new_col_name] = 0\n",
    "\n",
    "# Drop both the initial drop_cols and the original divide_cols\n",
    "PL_15.drop(columns=drop_cols + divide_cols, inplace=True)"
   ]
  },
  {
   "cell_type": "code",
   "execution_count": null,
   "id": "7c2b8498-479d-487a-8181-1494d0645ed0",
   "metadata": {},
   "outputs": [],
   "source": [
    "# Define columns to drop entirely\n",
    "drop_cols = ['# Pl']\n",
    "\n",
    "# Define columns to divide by 'MP' (and later drop)\n",
    "divide_cols = ['Tkl', 'TklW', 'Def 3rd', 'Mid 3rd', 'Att 3rd',\n",
    "       'Tkl.1', 'Att', 'Tkl%', 'Lost', 'Blocks', 'Sh', 'Pass', 'Int',\n",
    "       'Tkl+Int', 'Clr', 'Err']\n",
    "\n",
    "# Create new calculated columns (original_value / MP)\n",
    "for col in divide_cols:\n",
    "    new_col_name = f'{col}_per_90'  # Name for the new column\n",
    "    PL_16[new_col_name] = PL_16[col] / PL_16['90s']  # Perform division\n",
    "    \n",
    "    # Handle division by zero (if MP=0, set result to 0)\n",
    "    PL_16.loc[PL_16['90s'] == 0, new_col_name] = 0\n",
    "\n",
    "# Drop both the initial drop_cols and the original divide_cols\n",
    "PL_16.drop(columns=drop_cols + divide_cols, inplace=True)\n",
    "# Remove \"vs \" prefix from 'Squad' column\n",
    "PL_16['Squad'] = PL_16['Squad'].str.replace('^vs ', '', regex=True)\n",
    "\n",
    "# Rename columns (except 'Squad') by appending \"_against\"\n",
    "new_columns = {\n",
    "    col: f\"{col}_against\" \n",
    "    for col in PL_16.columns \n",
    "    if col != 'Squad'\n",
    "}\n",
    "PL_16.rename(columns=new_columns, inplace=True)"
   ]
  },
  {
   "cell_type": "code",
   "execution_count": null,
   "id": "e28d06ca-a2eb-45c3-ab50-91d11ad653d9",
   "metadata": {},
   "outputs": [],
   "source": [
    "PL_Squad_Defensive_Actions_Stats_df=pd.merge(\n",
    "    PL_15,          # Left DataFrame\n",
    "    PL_16,          # Right DataFrame\n",
    "    on='Squad',    # Merge key\n",
    "    how='inner'    # Use 'inner' to keep only matching squads (change to 'left'/'right'/'outer' if needed)\n",
    ")"
   ]
  },
  {
   "cell_type": "code",
   "execution_count": null,
   "id": "742b8e01-63ae-4be1-8932-cc23a33db50a",
   "metadata": {},
   "outputs": [],
   "source": [
    "PL_Squad_Defensive_Actions_Stats_df.head()"
   ]
  },
  {
   "cell_type": "code",
   "execution_count": null,
   "id": "b06ecdd5-aa62-4eb7-931c-abc471de5e5b",
   "metadata": {},
   "outputs": [],
   "source": [
    "PL_17.columns"
   ]
  },
  {
   "cell_type": "code",
   "execution_count": null,
   "id": "96da4979-0aa3-48c8-a438-3d318d9ba305",
   "metadata": {},
   "outputs": [],
   "source": [
    "# Define columns to drop entirely\n",
    "drop_cols = ['# Pl', 'Live', 'Poss', 'Touches', 'Def Pen', 'Def 3rd',\n",
    "       'Carries', 'TotDist']\n",
    "\n",
    "# Define columns to divide by 'MP' (and later drop)\n",
    "divide_cols = ['Mid 3rd', 'Att 3rd', 'Att Pen', 'Att', 'Succ', 'Tkld', 'Carries', \n",
    "               'TotDist', 'PrgDist', 'PrgC', '1/3', 'CPA', 'Mis','Dis', 'Rec', 'PrgR']\n",
    "\n",
    "# Create new calculated columns (original_value / MP)\n",
    "for col in divide_cols:\n",
    "    new_col_name = f'{col}_per_90'  # Name for the new column\n",
    "    PL_17[new_col_name] = PL_17[col] / PL_17['90s']  # Perform division\n",
    "    \n",
    "    # Handle division by zero (if MP=0, set result to 0)\n",
    "    PL_17.loc[PL_17['90s'] == 0, new_col_name] = 0\n",
    "\n",
    "# Drop both the initial drop_cols and the original divide_cols\n",
    "PL_17.drop(columns=drop_cols + divide_cols, inplace=True)"
   ]
  },
  {
   "cell_type": "code",
   "execution_count": null,
   "id": "371966f5-2d5a-4218-b6b5-08c7b965fccd",
   "metadata": {},
   "outputs": [],
   "source": [
    "# Define columns to drop entirely\n",
    "drop_cols = ['# Pl', 'Live', 'Poss', 'Touches', 'Def Pen', 'Def 3rd',\n",
    "       'Carries', 'TotDist']\n",
    "\n",
    "# Define columns to divide by 'MP' (and later drop)\n",
    "divide_cols = ['Mid 3rd', 'Att 3rd', 'Att Pen', 'Att', 'Succ', 'Tkld', 'Carries', \n",
    "               'TotDist', 'PrgDist', 'PrgC', '1/3', 'CPA', 'Mis','Dis', 'Rec', 'PrgR']\n",
    "\n",
    "# Create new calculated columns (original_value / MP)\n",
    "for col in divide_cols:\n",
    "    new_col_name = f'{col}_per_90'  # Name for the new column\n",
    "    PL_18[new_col_name] = PL_18[col] / PL_18['90s']  # Perform division\n",
    "    \n",
    "    # Handle division by zero (if MP=0, set result to 0)\n",
    "    PL_18.loc[PL_18['90s'] == 0, new_col_name] = 0\n",
    "\n",
    "# Drop both the initial drop_cols and the original divide_cols\n",
    "PL_18.drop(columns=drop_cols + divide_cols, inplace=True)\n",
    "\n",
    "# Remove \"vs \" prefix from 'Squad' column\n",
    "PL_18['Squad'] = PL_18['Squad'].str.replace('^vs ', '', regex=True)\n",
    "\n",
    "# Rename columns (except 'Squad') by appending \"_against\"\n",
    "new_columns = {\n",
    "    col: f\"{col}_against\" \n",
    "    for col in PL_18.columns \n",
    "    if col != 'Squad'\n",
    "}\n",
    "PL_18.rename(columns=new_columns, inplace=True)"
   ]
  },
  {
   "cell_type": "code",
   "execution_count": null,
   "id": "62eabe05-f903-463f-8176-6c818dbecfd7",
   "metadata": {},
   "outputs": [],
   "source": [
    "PL_Squad_Possession_Stats_df=pd.merge(\n",
    "    PL_17,          # Left DataFrame\n",
    "    PL_18,          # Right DataFrame\n",
    "    on='Squad',    # Merge key\n",
    "    how='inner'    # Use 'inner' to keep only matching squads (change to 'left'/'right'/'outer' if needed)\n",
    ")"
   ]
  },
  {
   "cell_type": "code",
   "execution_count": null,
   "id": "6cfffb4c-b030-488b-95a1-3150443fdb92",
   "metadata": {},
   "outputs": [],
   "source": [
    "PL_Squad_Possession_Stats_df.head()"
   ]
  },
  {
   "cell_type": "code",
   "execution_count": null,
   "id": "9ac4df60-4270-41c8-a059-f128714c624c",
   "metadata": {},
   "outputs": [],
   "source": [
    "PL_21.columns"
   ]
  },
  {
   "cell_type": "code",
   "execution_count": null,
   "id": "05dc8508-8d68-4113-a86d-dc626472ce67",
   "metadata": {},
   "outputs": [],
   "source": [
    "# Define columns to drop entirely\n",
    "drop_cols = ['# Pl', 'CrdY', 'CrdR', '2CrdY',\n",
    "       'Crs', 'Int', 'Recov', 'Lost', 'OG', 'TklW', 'PKwon', 'PKcon']\n",
    "\n",
    "# Define columns to divide by 'MP' (and later drop)\n",
    "divide_cols = ['Fls', 'Fld', 'Off','Crs', 'Int', 'OG', 'Recov', 'Won']\n",
    "\n",
    "# Create new calculated columns (original_value / MP)\n",
    "for col in divide_cols:\n",
    "    new_col_name = f'{col}_per_90'  # Name for the new column\n",
    "    PL_21[new_col_name] = PL_21[col] / PL_21['90s']  # Perform division\n",
    "    \n",
    "    # Handle division by zero (if MP=0, set result to 0)\n",
    "    PL_21.loc[PL_21['90s'] == 0, new_col_name] = 0\n",
    "\n",
    "# Drop both the initial drop_cols and the original divide_cols\n",
    "PL_21.drop(columns=drop_cols + divide_cols, inplace=True)"
   ]
  },
  {
   "cell_type": "code",
   "execution_count": null,
   "id": "fb0eba30-ffee-48fd-95fc-91d0549da58f",
   "metadata": {},
   "outputs": [],
   "source": [
    "# Define columns to drop entirely\n",
    "drop_cols = ['# Pl', 'CrdY', 'CrdR', '2CrdY',\n",
    "       'Crs', 'Int', 'Recov', 'Lost', 'OG', 'TklW', 'PKwon', 'PKcon']\n",
    "\n",
    "# Define columns to divide by 'MP' (and later drop)\n",
    "divide_cols = ['Fls', 'Fld', 'Off','Crs', 'Int', 'OG', 'Recov', 'Won']\n",
    "\n",
    "# Create new calculated columns (original_value / MP)\n",
    "for col in divide_cols:\n",
    "    new_col_name = f'{col}_per_90'  # Name for the new column\n",
    "    PL_22[new_col_name] = PL_22[col] / PL_22['90s']  # Perform division\n",
    "    \n",
    "    # Handle division by zero (if MP=0, set result to 0)\n",
    "    PL_22.loc[PL_22['90s'] == 0, new_col_name] = 0\n",
    "\n",
    "# Drop both the initial drop_cols and the original divide_cols\n",
    "PL_22.drop(columns=drop_cols + divide_cols, inplace=True)\n",
    "\n",
    "# Remove \"vs \" prefix from 'Squad' column\n",
    "PL_22['Squad'] = PL_22['Squad'].str.replace('^vs ', '', regex=True)\n",
    "\n",
    "# Rename columns (except 'Squad') by appending \"_against\"\n",
    "new_columns = {\n",
    "    col: f\"{col}_against\" \n",
    "    for col in PL_22.columns \n",
    "    if col != 'Squad'\n",
    "}\n",
    "PL_22.rename(columns=new_columns, inplace=True)"
   ]
  },
  {
   "cell_type": "code",
   "execution_count": null,
   "id": "572dd10c-0f0e-4ff3-bdac-80151a888adf",
   "metadata": {},
   "outputs": [],
   "source": [
    "PL_Squad_Miscellaneous_Stats_df=pd.merge(\n",
    "    PL_21,          # Left DataFrame\n",
    "    PL_22,          # Right DataFrame\n",
    "    on='Squad',    # Merge key\n",
    "    how='inner'    # Use 'inner' to keep only matching squads (change to 'left'/'right'/'outer' if needed)\n",
    ")"
   ]
  },
  {
   "cell_type": "code",
   "execution_count": null,
   "id": "bce716c4-4090-4b4b-8c14-d2be8fad61a9",
   "metadata": {},
   "outputs": [],
   "source": [
    "PL_Squad_Miscellaneous_Stats_df.head()"
   ]
  },
  {
   "cell_type": "code",
   "execution_count": null,
   "id": "1b2ff2d3-629a-49bd-933a-eaa69ed3e11e",
   "metadata": {},
   "outputs": [],
   "source": [
    "import pandas as pd\n",
    "from functools import reduce\n",
    "\n",
    "# List of all DataFrames to merge\n",
    "dataframes = [\n",
    "    PL_Squad_Standard_Stats_df,\n",
    "    PL_Squad_Goalkeeping_Stats_df,\n",
    "    PL_Squad_Advanced_Goalkeeping_Stats_df,\n",
    "    PL_Squad_Shooting_Stats_df,\n",
    "    PL_Squad_Passing_Stats_df,\n",
    "    PL_Squad_Pass_Types_Stats_df,\n",
    "    PL_Squad_Goal_Shot_Creation_Stats_df,\n",
    "    PL_Squad_Defensive_Actions_Stats_df,\n",
    "    PL_Squad_Possession_Stats_df,\n",
    "    PL_Squad_Miscellaneous_Stats_df\n",
    "]\n",
    "\n",
    "# Step 1: Define columns to drop\n",
    "columns_to_drop = ['MP', 'MP_against', '90s', '90s_against']\n",
    "\n",
    "# Step 2: Process each DataFrame\n",
    "processed_dfs = []\n",
    "prefixes = [\n",
    "    \"Standard_\", \"Goalkeeping_\", \"AdvGoalkeeping_\", \"Shooting_\", \n",
    "    \"Passing_\", \"PassTypes_\", \"GoalShotCreation_\", \"Defense_\", \"Possession_\", \"Miscellaneous_\"\n",
    "]\n",
    "\n",
    "for df, prefix in zip(dataframes, prefixes):\n",
    "    # Drop specified columns if they exist\n",
    "    df_clean = df.drop(columns=[col for col in columns_to_drop if col in df.columns], errors='ignore')\n",
    "    \n",
    "    # Add prefix to all columns except 'Squad'\n",
    "    df_clean = df_clean.rename(columns={\n",
    "        col: prefix + col if col != 'Squad' else col \n",
    "        for col in df_clean.columns\n",
    "    })\n",
    "    processed_dfs.append(df_clean)\n",
    "\n",
    "# Step 3: Merge all DataFrames\n",
    "merged_df = reduce(\n",
    "    lambda left, right: pd.merge(left, right, on='Squad', how='outer'),\n",
    "    processed_dfs\n",
    ")\n",
    "\n",
    "# Step 4: Save to CSV\n",
    "merged_df.to_csv('Premier_League_merged_squad_stats.csv', index=False)"
   ]
  },
  {
   "cell_type": "code",
   "execution_count": null,
   "id": "65626093-4328-4521-8427-bcecf25565bd",
   "metadata": {},
   "outputs": [],
   "source": []
  }
 ],
 "metadata": {
  "kernelspec": {
   "display_name": "Python 3 (ipykernel)",
   "language": "python",
   "name": "python3"
  },
  "language_info": {
   "codemirror_mode": {
    "name": "ipython",
    "version": 3
   },
   "file_extension": ".py",
   "mimetype": "text/x-python",
   "name": "python",
   "nbconvert_exporter": "python",
   "pygments_lexer": "ipython3",
   "version": "3.11.9"
  }
 },
 "nbformat": 4,
 "nbformat_minor": 5
}
